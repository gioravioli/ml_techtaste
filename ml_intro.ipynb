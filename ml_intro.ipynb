{
 "cells": [
  {
   "cell_type": "markdown",
   "metadata": {},
   "source": [
    "## Machine Learning with scikit-learn\n",
    "\n",
    "We go through an example of building a Logistic Regression model of the titanic dataset.\n",
    "\n",
    "Download the dataset here: https://www.openml.org/d/40945 (choose CSV)\n",
    "\n",
    "We will be using `pandas` for data manipulation, `sklearn` for machine learning models and `matplotlib` for visualization."
   ]
  },
  {
   "cell_type": "code",
   "execution_count": null,
   "metadata": {},
   "outputs": [],
   "source": [
    "import pandas as pd\n",
    "from sklearn.datasets import load_iris"
   ]
  },
  {
   "cell_type": "code",
   "execution_count": null,
   "metadata": {},
   "outputs": [],
   "source": [
    "iris = load_iris()\n",
    "print(iris.DESCR)"
   ]
  },
  {
   "cell_type": "code",
   "execution_count": null,
   "metadata": {},
   "outputs": [],
   "source": [
    "iris_df = pd.DataFrame(iris.data, columns=iris.feature_names)\n",
    "iris_df['target'] = iris.target\n",
    "iris_df = iris_df[iris_df['target'] >= 1] # use only 2 classes\n",
    "iris_df.head()"
   ]
  },
  {
   "cell_type": "code",
   "execution_count": null,
   "metadata": {},
   "outputs": [],
   "source": [
    "from matplotlib import pyplot as plt"
   ]
  },
  {
   "cell_type": "code",
   "execution_count": null,
   "metadata": {},
   "outputs": [],
   "source": [
    "# GRAPH THE DATA\n",
    "plt.figure(figsize=(10, 8))\n",
    "xlabel, ylabel = \"petal length (cm)\", \"petal width (cm)\"\n",
    "plt.xlabel(xlabel)\n",
    "plt.ylabel(ylabel)\n",
    "class0 = iris_df[iris_df[\"target\"] == 1]\n",
    "class1 = iris_df[iris_df[\"target\"] == 2]\n",
    "plt.scatter(class0[xlabel], class0[ylabel], marker='^', label=\"Iris-Versicolour\")\n",
    "plt.scatter(class1[xlabel], class1[ylabel], label=\"Iris-Virginica\")\n",
    "plt.legend()"
   ]
  },
  {
   "cell_type": "code",
   "execution_count": null,
   "metadata": {},
   "outputs": [],
   "source": [
    "from sklearn.model_selection import train_test_split\n",
    "from sklearn.linear_model import LogisticRegression"
   ]
  },
  {
   "cell_type": "code",
   "execution_count": null,
   "metadata": {},
   "outputs": [],
   "source": [
    "# BUILD MODEL\n",
    "X = iris_df[[xlabel, ylabel]].values\n",
    "y = iris_df[\"target\"].values\n",
    "X_train, X_test, y_train, y_test = train_test_split(X, y)\n",
    "iris_model = LogisticRegression(solver='lbfgs').fit(X_train, y_train)"
   ]
  },
  {
   "cell_type": "code",
   "execution_count": null,
   "metadata": {},
   "outputs": [],
   "source": [
    "print(iris_model.coef_, iris_model.intercept_)"
   ]
  },
  {
   "cell_type": "code",
   "execution_count": null,
   "metadata": {},
   "outputs": [],
   "source": [
    "# MAKE SINGLE PREDICTION\n",
    "print(\"datapoint:\", X_test[0])\n",
    "print(\"target:\", y_test[0])\n",
    "print(\"prediction:\", iris_model.predict([X_test[0]]))"
   ]
  },
  {
   "cell_type": "code",
   "execution_count": null,
   "metadata": {},
   "outputs": [],
   "source": [
    "# PREDICT ON ENTIRE TEST SET\n",
    "y_predict = iris_model.predict(X_test)\n",
    "pd.DataFrame({xlabel: X_test[:, 0], ylabel: X_test[:, 1], \"target\": y_test, \"prediction\": y_predict})"
   ]
  },
  {
   "cell_type": "code",
   "execution_count": null,
   "metadata": {},
   "outputs": [],
   "source": [
    "# CALCULATE SCORE ON ENTIRE TEST SET\n",
    "print(iris_model.score(X_test, y_test))"
   ]
  },
  {
   "cell_type": "markdown",
   "metadata": {},
   "source": [
    "# Your Turn!\n",
    "\n",
    "Feel free to approach any exercise first.\n",
    "\n",
    "\n",
    "Here are the general steps to follow when building a model:\n",
    "\n",
    "1. Load data, build DataFrame\n",
    "2. Use `train_test_split` to create training and test set\n",
    "3. For each model:\n",
    "    - Build model with the train set (`fit` method)\n",
    "    - Score with the test set (`score` method)"
   ]
  },
  {
   "cell_type": "code",
   "execution_count": null,
   "metadata": {},
   "outputs": [],
   "source": []
  },
  {
   "cell_type": "markdown",
   "metadata": {},
   "source": [
    "## Exercise 1\n",
    "\n",
    "Use all four features (instead of just pedal length and pedal width) in the model for the iris dataset."
   ]
  },
  {
   "cell_type": "code",
   "execution_count": null,
   "metadata": {},
   "outputs": [],
   "source": []
  },
  {
   "cell_type": "markdown",
   "metadata": {},
   "source": [
    "## Exercise 2\n",
    "\n",
    "Load another model from sklearn and compare the score with linear regression on the iris dataset.\n",
    "\n",
    "**Don't run `train_test_split` again. Use the same train and test sets for all the algorithms.**\n",
    "\n",
    "Here are the docs & import statements for the other regression models:\n",
    "\n",
    "* [Desision tree for classification](https://scikit-learn.org/stable/modules/generated/sklearn.tree.DecisionTreeClassifier.html): `from sklearn.tree import DecisionTreeClassifier`\n",
    "* [Random forest for classification](https://scikit-learn.org/stable/modules/generated/sklearn.ensemble.RandomForestClassifier.html): `from sklearn.ensemble import RandomForestClassifier`\n",
    "* [Neural network for classification](https://scikit-learn.org/stable/modules/generated/sklearn.neural_network.MLPRegressor.html#sklearn.neural_network.MLPClassifier): `from sklearn.neural_network import MLPClassifier`\n",
    "\n",
    "Follow the syntax of the `LinearRegression` model. The `fit`, `predict` and `score` methods are the same!"
   ]
  },
  {
   "cell_type": "code",
   "execution_count": null,
   "metadata": {},
   "outputs": [],
   "source": []
  },
  {
   "cell_type": "markdown",
   "metadata": {},
   "source": [
    "## Exercise 3\n",
    "\n",
    "Try building a model for the boston regression dataset.\n",
    "\n",
    "Here's the import statement: `from sklearn.datasets import load_boston`.\n",
    "\n",
    "Follow the same syntax as with the `load_iris` function.\n",
    "\n",
    "Here's the docs & import statements for the classification models:\n",
    "\n",
    "* [Linear regression](https://scikit-learn.org/stable/modules/generated/sklearn.linear_model.LinearRegression.html): `from sklearn.linear_model import LinearRegression`\n",
    "* [Desision tree for regression](https://scikit-learn.org/stable/modules/generated/sklearn.tree.DecisionTreeRegressor.html): `from sklearn.tree import DecisionTreeRegressor`\n",
    "* [Random forest for regression](https://scikit-learn.org/stable/modules/generated/sklearn.ensemble.RandomForestRegressor.html): `from sklearn.ensemble import RandomForestRegressor`\n",
    "* [Neural network for regression](https://scikit-learn.org/stable/modules/generated/sklearn.neural_network.MLPRegressor.html#sklearn.neural_network.MLPRegressor): `from sklearn.neural_network import MLPRegressor`"
   ]
  },
  {
   "cell_type": "code",
   "execution_count": null,
   "metadata": {},
   "outputs": [],
   "source": []
  },
  {
   "cell_type": "markdown",
   "metadata": {},
   "source": [
    "## Even more\n",
    "\n",
    "Try building models for other [toy datasets](https://scikit-learn.org/stable/datasets/toy_dataset.html) or some [real world datasets](https://scikit-learn.org/stable/datasets/real_world.html). Or find a fun challenge on [kaggle.com](https://www.kaggle.com/)."
   ]
  },
  {
   "cell_type": "code",
   "execution_count": null,
   "metadata": {},
   "outputs": [],
   "source": []
  }
 ],
 "metadata": {
  "kernelspec": {
   "display_name": "Python 3",
   "language": "python",
   "name": "python3"
  },
  "language_info": {
   "codemirror_mode": {
    "name": "ipython",
    "version": 3
   },
   "file_extension": ".py",
   "mimetype": "text/x-python",
   "name": "python",
   "nbconvert_exporter": "python",
   "pygments_lexer": "ipython3",
   "version": "3.7.4"
  }
 },
 "nbformat": 4,
 "nbformat_minor": 2
}
